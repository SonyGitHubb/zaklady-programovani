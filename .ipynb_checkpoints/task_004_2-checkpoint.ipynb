{
 "cells": [
  {
   "cell_type": "code",
   "execution_count": 1,
   "id": "b2555987-e7a5-4511-985c-e721ead081a2",
   "metadata": {},
   "outputs": [],
   "source": [
    "jmeno = \"Anna\"\n",
    "vek = 19\n",
    "vyska = 1.68  # metry\n",
    "hmotnost = 60  # kg"
   ]
  },
  {
   "cell_type": "code",
   "execution_count": 3,
   "id": "7e940bb7-b8b1-4c09-91aa-de64f5ab590d",
   "metadata": {},
   "outputs": [
    {
     "name": "stdout",
     "output_type": "stream",
     "text": [
      "20 <class 'int'>\n",
      "21.3 <class 'float'>\n"
     ]
    }
   ],
   "source": [
    "# A\n",
    "vek_za_rok = vek + 1\n",
    "print(vek_za_rok, type(vek_za_rok))\n",
    "\n",
    "bmi = hmotnost / (vyska ** 2)\n",
    "bmi = round(bmi, 1)\n",
    "print(bmi, type(bmi))\n"
   ]
  },
  {
   "cell_type": "code",
   "execution_count": 4,
   "id": "2458fbef-43bb-4d51-b99b-36676d80f8ca",
   "metadata": {},
   "outputs": [
    {
     "name": "stdout",
     "output_type": "stream",
     "text": [
      "Ahoj, jmenuji se Anna a je mi 19 let.\n",
      "37\n",
      "True\n"
     ]
    }
   ],
   "source": [
    "# B\n",
    "veta = f\"Ahoj, jmenuji se {jmeno} a je mi {vek} let.\"\n",
    "print(veta)\n",
    "\n",
    "print(len(veta))\n",
    "\n",
    "print(\"Anna\" in veta)"
   ]
  },
  {
   "cell_type": "code",
   "execution_count": 5,
   "id": "dee95fd6-3fd0-49f7-bb10-911733cfbcfe",
   "metadata": {},
   "outputs": [
    {
     "name": "stdout",
     "output_type": "stream",
     "text": [
      "True\n"
     ]
    }
   ],
   "source": [
    "# C\n",
    "plnolety = vek >= 18\n",
    "\n",
    "bmi_ok = 18.5 < bmi < 25\n",
    "\n",
    "zdravy_dospely = plnolety and bmi_ok\n",
    "print(zdravy_dospely)"
   ]
  },
  {
   "cell_type": "code",
   "execution_count": 8,
   "id": "0c45dea2-2371-430b-9aa8-8a81e319c8d0",
   "metadata": {},
   "outputs": [
    {
     "name": "stdout",
     "output_type": "stream",
     "text": [
      "jméno: Anna, věk: 19, BMI: 21.3, zdravý dospělý: True\n",
      "{'jméno': 'Anna', 'věk': 19, 'BMI': 21.3, 'zdravý dospělý': True}\n"
     ]
    }
   ],
   "source": [
    "# Bonus:\n",
    "print(f\"jméno: {jmeno}, věk: {vek}, BMI: {bmi}, zdravý dospělý: {zdravy_dospely}\")\n",
    "\n",
    "slovnik = {\"jméno\": jmeno, \"věk\": vek, \"BMI\": bmi, \"zdravý dospělý\": zdravy_dospely}\n",
    "print(slovnik)\n"
   ]
  },
  {
   "cell_type": "code",
   "execution_count": null,
   "id": "0586cccb-c3e9-43db-ac1f-11e365c460e9",
   "metadata": {},
   "outputs": [],
   "source": []
  }
 ],
 "metadata": {
  "kernelspec": {
   "display_name": "Python 3 (ipykernel)",
   "language": "python",
   "name": "python3"
  },
  "language_info": {
   "codemirror_mode": {
    "name": "ipython",
    "version": 3
   },
   "file_extension": ".py",
   "mimetype": "text/x-python",
   "name": "python",
   "nbconvert_exporter": "python",
   "pygments_lexer": "ipython3",
   "version": "3.14.0"
  }
 },
 "nbformat": 4,
 "nbformat_minor": 5
}
