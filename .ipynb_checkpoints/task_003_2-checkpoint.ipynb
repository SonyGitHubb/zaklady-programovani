{
 "cells": [
  {
   "cell_type": "code",
   "execution_count": 1,
   "id": "83bba8b5-3ee0-404a-9c7d-45704993fc22",
   "metadata": {},
   "outputs": [],
   "source": [
    "a = 10\n",
    "b = 5\n",
    "c = 10\n"
   ]
  },
  {
   "cell_type": "code",
   "execution_count": 2,
   "id": "20973b2d-540b-4b71-9bb7-d5fd663992bf",
   "metadata": {},
   "outputs": [
    {
     "name": "stdout",
     "output_type": "stream",
     "text": [
      "True <class 'bool'>\n",
      "False <class 'bool'>\n",
      "True <class 'bool'>\n"
     ]
    }
   ],
   "source": [
    "# A\n",
    "cond1 = a > b\n",
    "print(cond1, type(cond1))\n",
    "\n",
    "cond2 = a < b\n",
    "print(cond2, type(cond2))\n",
    "\n",
    "cond3 = a == c\n",
    "print(cond3, type(cond3))"
   ]
  },
  {
   "cell_type": "code",
   "execution_count": 3,
   "id": "9eacc2bd-e14d-493c-bf2b-3d03cdd987fb",
   "metadata": {},
   "outputs": [
    {
     "name": "stdout",
     "output_type": "stream",
     "text": [
      "False <class 'bool'>\n",
      "True <class 'bool'>\n",
      "False <class 'bool'>\n"
     ]
    }
   ],
   "source": [
    "# B\n",
    "conjunction = cond1 and cond2\n",
    "disjunction = cond1 or cond2\n",
    "negation = not cond3\n",
    "\n",
    "print(conjunction, type(conjunction))\n",
    "print(disjunction, type(disjunction))\n",
    "print(negation, type(negation))"
   ]
  },
  {
   "cell_type": "code",
   "execution_count": 4,
   "id": "4de912f6-a6d1-46b7-b68a-2a5dfc18d1e5",
   "metadata": {},
   "outputs": [
    {
     "name": "stdout",
     "output_type": "stream",
     "text": [
      "True\n",
      "False\n",
      "False\n"
     ]
    }
   ],
   "source": [
    "# C\n",
    "text = \"Python je super\"\n",
    "\n",
    "truth_len = len(text) > 10\n",
    "print(truth_len)\n",
    "\n",
    "truth_x = \"x\" in text\n",
    "print(truth_x)\n",
    "\n",
    "check = truth_len and truth_x\n",
    "print(check)"
   ]
  },
  {
   "cell_type": "code",
   "execution_count": null,
   "id": "6e6e4bb3-fa85-42c7-9f81-86cb78c404fe",
   "metadata": {},
   "outputs": [],
   "source": []
  }
 ],
 "metadata": {
  "kernelspec": {
   "display_name": "Python 3 (ipykernel)",
   "language": "python",
   "name": "python3"
  },
  "language_info": {
   "codemirror_mode": {
    "name": "ipython",
    "version": 3
   },
   "file_extension": ".py",
   "mimetype": "text/x-python",
   "name": "python",
   "nbconvert_exporter": "python",
   "pygments_lexer": "ipython3",
   "version": "3.14.0"
  }
 },
 "nbformat": 4,
 "nbformat_minor": 5
}
