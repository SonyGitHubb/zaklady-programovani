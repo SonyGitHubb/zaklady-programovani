{
 "cells": [
  {
   "cell_type": "code",
   "execution_count": 1,
   "id": "3a269c16-f656-4b19-9bb6-5e3b1645358c",
   "metadata": {},
   "outputs": [
    {
     "name": "stdout",
     "output_type": "stream",
     "text": [
      "Python je super ! <class 'str'>\n",
      "17\n",
      "Python je super !\n",
      "PYTHON JE SUPER !\n",
      "python je super !\n"
     ]
    }
   ],
   "source": [
    "# A\n",
    "str1, str2, str3, str4 = \"Python\", \"je\", \"super\", \"!\"\n",
    "\n",
    "sentence = str1 + \" \" + str2 + \" \" + str3 + \" \" + str4\n",
    "print(sentence, type(sentence))\n",
    "\n",
    "length = len(sentence)\n",
    "print(length)\n",
    "\n",
    "sentence_upper = sentence.upper() \n",
    "sentence_lower = sentence.lower()\n",
    "\n",
    "print(sentence)\n",
    "print(sentence_upper)\n",
    "print(sentence_lower)"
   ]
  },
  {
   "cell_type": "code",
   "execution_count": 2,
   "id": "6afb0274-3e34-48b6-8fa0-8cfa5888342e",
   "metadata": {},
   "outputs": [
    {
     "name": "stdout",
     "output_type": "stream",
     "text": [
      "['Python', 'je', 'opravdu ', 'super', '!']\n",
      "False <class 'bool'>\n"
     ]
    }
   ],
   "source": [
    "# B\n",
    "words = [\"Python\", \"je\", \"super\", \"!\"]\n",
    "\n",
    "words.insert(2, \"opravdu \")\n",
    "print(words)\n",
    "\n",
    "sentence2 = \" \".join(words)  # Spojí všechny stringy ze seznamu mezerou\n",
    "\n",
    "comparison = sentence == sentence2\n",
    "print(comparison, type(comparison))"
   ]
  },
  {
   "cell_type": "code",
   "execution_count": 3,
   "id": "1c249e10-bb6d-4546-ba09-4f28eef4878f",
   "metadata": {},
   "outputs": [
    {
     "name": "stdout",
     "output_type": "stream",
     "text": [
      "True\n",
      "Python je skvělý !\n",
      "7\n",
      "Python\n"
     ]
    }
   ],
   "source": [
    "# C\n",
    "print(\"Python\" in sentence)\n",
    "\n",
    "sentence3 = sentence.replace(\"super\", \"skvělý\")\n",
    "print(sentence3)\n",
    "\n",
    "index_j = sentence3.index(\"j\")\n",
    "print(index_j)\n",
    "\n",
    "substring = sentence3[:6]\n",
    "print(substring)"
   ]
  },
  {
   "cell_type": "code",
   "execution_count": null,
   "id": "3411ca29-1475-418b-8fc0-84e2d0ce2bf2",
   "metadata": {},
   "outputs": [],
   "source": []
  }
 ],
 "metadata": {
  "kernelspec": {
   "display_name": "Python 3 (ipykernel)",
   "language": "python",
   "name": "python3"
  },
  "language_info": {
   "codemirror_mode": {
    "name": "ipython",
    "version": 3
   },
   "file_extension": ".py",
   "mimetype": "text/x-python",
   "name": "python",
   "nbconvert_exporter": "python",
   "pygments_lexer": "ipython3",
   "version": "3.14.0"
  }
 },
 "nbformat": 4,
 "nbformat_minor": 5
}
