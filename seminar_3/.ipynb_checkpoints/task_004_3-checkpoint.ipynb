{
 "cells": [
  {
   "cell_type": "code",
   "execution_count": 1,
   "id": "9a2dfb11-af18-4cd4-980a-998a661773cc",
   "metadata": {},
   "outputs": [
    {
     "name": "stdout",
     "output_type": "stream",
     "text": [
      "Anna\n",
      "Délká Jména: [5, 4, 5, 3, 5]\n"
     ]
    }
   ],
   "source": [
    "name = [\"Pavel\", \"Anna\", \"Karel\", \"Eva\", \"Tomas\"]\n",
    "array = []\n",
    "for i in name:\n",
    "    if i[0] == \"A\":\n",
    "        print(i)\n",
    "    array.append(len(i))\n",
    "print(f\"Délká Jména: {array}\")"
   ]
  },
  {
   "cell_type": "code",
   "execution_count": null,
   "id": "631b0f02-89cf-48ca-86eb-742a608da15a",
   "metadata": {},
   "outputs": [],
   "source": []
  }
 ],
 "metadata": {
  "kernelspec": {
   "display_name": "Python 3 (ipykernel)",
   "language": "python",
   "name": "python3"
  },
  "language_info": {
   "codemirror_mode": {
    "name": "ipython",
    "version": 3
   },
   "file_extension": ".py",
   "mimetype": "text/x-python",
   "name": "python",
   "nbconvert_exporter": "python",
   "pygments_lexer": "ipython3",
   "version": "3.14.0"
  }
 },
 "nbformat": 4,
 "nbformat_minor": 5
}
