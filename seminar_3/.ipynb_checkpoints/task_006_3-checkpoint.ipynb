{
 "cells": [
  {
   "cell_type": "code",
   "execution_count": 2,
   "id": "e10666c3-a30e-4ce1-8df3-6dc79ee8d1bb",
   "metadata": {},
   "outputs": [
    {
     "name": "stdout",
     "output_type": "stream",
     "text": [
      "['pes']\n"
     ]
    }
   ],
   "source": [
    "slova = [\"pes\", \"kocka\", \"slon\", \"tygr\", \"sova\", \"pstros\"]\n",
    "length = []\n",
    "for i in slova:\n",
    "    if len(i) == 3:\n",
    "        length.append(i)\n",
    "print(length)"
   ]
  },
  {
   "cell_type": "code",
   "execution_count": null,
   "id": "554cc6bf-4ae4-46de-841a-8ddb0675a41f",
   "metadata": {},
   "outputs": [],
   "source": []
  }
 ],
 "metadata": {
  "kernelspec": {
   "display_name": "Python 3 (ipykernel)",
   "language": "python",
   "name": "python3"
  },
  "language_info": {
   "codemirror_mode": {
    "name": "ipython",
    "version": 3
   },
   "file_extension": ".py",
   "mimetype": "text/x-python",
   "name": "python",
   "nbconvert_exporter": "python",
   "pygments_lexer": "ipython3",
   "version": "3.14.0"
  }
 },
 "nbformat": 4,
 "nbformat_minor": 5
}
