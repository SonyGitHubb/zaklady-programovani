{
 "cells": [
  {
   "cell_type": "code",
   "execution_count": 5,
   "id": "40ba9c0a-9862-48c5-b9ad-7d59665811eb",
   "metadata": {},
   "outputs": [
    {
     "name": "stdout",
     "output_type": "stream",
     "text": [
      "[]\n"
     ]
    }
   ],
   "source": [
    "num = list(range(1,31))\n",
    "divide5 = []\n",
    "\n",
    "for i in num:\n",
    "    if i % 5 == 0:\n",
    "        divide5.append(i)\n",
    "\n",
    "nonprime = []\n",
    "\n",
    "for num in num:\n",
    "    boolean = True\n",
    "\n",
    "    for j in range(2, num):\n",
    "        if num % i == 0:\n",
    "            boolean = False\n",
    "            break\n",
    "        if not boolean:\n",
    "            nonprime.append(num)\n",
    "print(nonprime)"
   ]
  }
 ],
 "metadata": {
  "kernelspec": {
   "display_name": "Python 3 (ipykernel)",
   "language": "python",
   "name": "python3"
  },
  "language_info": {
   "codemirror_mode": {
    "name": "ipython",
    "version": 3
   },
   "file_extension": ".py",
   "mimetype": "text/x-python",
   "name": "python",
   "nbconvert_exporter": "python",
   "pygments_lexer": "ipython3",
   "version": "3.14.0"
  }
 },
 "nbformat": 4,
 "nbformat_minor": 5
}
