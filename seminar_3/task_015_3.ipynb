{
 "cells": [
  {
   "cell_type": "code",
   "execution_count": 1,
   "id": "ad2cabf4",
   "metadata": {},
   "outputs": [
    {
     "name": "stdout",
     "output_type": "stream",
     "text": [
      "['python', 'je', 'super', 'jazyk']\n",
      "['je']\n",
      "{'python': 6, 'je': 2, 'super': 5, 'jazyk': 5}\n",
      "1\n"
     ]
    }
   ],
   "source": [
    "text = \"python je super jazyk\"\n",
    "# k uloze 1\n",
    "slova = text.split()\n",
    "print(slova)\n",
    "# k uloze 2\n",
    "slova_kratsi_5 = [slovo for slovo in slova if len(slovo) < 5]\n",
    "print(slova_kratsi_5)\n",
    "# k uloze 3\n",
    "slovnik = {slovo: len(slovo) for slovo in slova}\n",
    "print(slovnik)\n",
    "# k uloze 4\n",
    "pocet = 0\n",
    "for slovo in slova:\n",
    "    if 'python' == slovo:\n",
    "        pocet += 1\n",
    "print(pocet)"
   ]
  }
 ],
 "metadata": {
  "kernelspec": {
   "display_name": "myvenv2",
   "language": "python",
   "name": "python3"
  },
  "language_info": {
   "codemirror_mode": {
    "name": "ipython",
    "version": 3
   },
   "file_extension": ".py",
   "mimetype": "text/x-python",
   "name": "python",
   "nbconvert_exporter": "python",
   "pygments_lexer": "ipython3",
   "version": "3.14.0"
  }
 },
 "nbformat": 4,
 "nbformat_minor": 5
}
