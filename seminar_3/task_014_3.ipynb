{
 "cells": [
  {
   "cell_type": "code",
   "execution_count": 1,
   "id": "8310ee32",
   "metadata": {},
   "outputs": [
    {
     "name": "stdout",
     "output_type": "stream",
     "text": [
      "0.11\n",
      "1\n",
      "[1, 2, 1, 2, 1]\n",
      "[0, 2, 3, 6, 8]\n",
      "0.44\n",
      "1\n",
      "[1, 2, 1, 2, 1]\n",
      "[0, 2, 3, 6, 8]\n",
      "0.67\n",
      "1\n",
      "[1, 2, 1, 2, 1]\n",
      "[0, 2, 3, 6, 8]\n",
      "0.78\n",
      "1\n",
      "[1, 2, 1, 2, 1]\n",
      "[0, 2, 3, 6, 8]\n",
      "1.22\n",
      "1\n",
      "[1, 2, 1, 2, 1]\n",
      "[0, 2, 3, 6, 8]\n",
      "1.78\n",
      "1\n",
      "[1, 2, 1, 2, 1]\n",
      "[0, 2, 3, 6, 8]\n",
      "2.0\n",
      "1\n",
      "[1, 2, 1, 2, 1]\n",
      "[0, 2, 3, 6, 8]\n",
      "2.33\n",
      "1\n",
      "[1, 2, 1, 2, 1]\n",
      "[0, 2, 3, 6, 8]\n",
      "2.44\n",
      "1\n",
      "[1, 2, 1, 2, 1]\n",
      "[0, 2, 3, 6, 8]\n"
     ]
    }
   ],
   "source": [
    "znamky = [1, 3, 2, 1, 4, 5, 2, 3, 1]\n",
    "# k uloze 1\n",
    "soucet = 0\n",
    "for znamka in znamky:\n",
    "    soucet += znamka\n",
    "    prumer = soucet / len(znamky)\n",
    "    print( round(prumer,2) )\n",
    "\n",
    "    prumer = round( sum(znamky)/len(znamky), 2 )\n",
    "\n",
    "    propadu_pocet = len([x for x in znamky if x == 5])\n",
    "    print(propadu_pocet)\n",
    "\n",
    "    propadu_pocet = znamky.count(5)\n",
    "\n",
    "    student_1nebo2 = [x for x in znamky if x < 3]\n",
    "    print( student_1nebo2 )\n",
    "\n",
    "    student_1nebo2_ind = [index for index, grade in enumerate(znamky) if grade < 3]\n",
    "    print(student_1nebo2_ind)"
   ]
  }
 ],
 "metadata": {
  "kernelspec": {
   "display_name": "myvenv2",
   "language": "python",
   "name": "python3"
  },
  "language_info": {
   "codemirror_mode": {
    "name": "ipython",
    "version": 3
   },
   "file_extension": ".py",
   "mimetype": "text/x-python",
   "name": "python",
   "nbconvert_exporter": "python",
   "pygments_lexer": "ipython3",
   "version": "3.14.0"
  }
 },
 "nbformat": 4,
 "nbformat_minor": 5
}
