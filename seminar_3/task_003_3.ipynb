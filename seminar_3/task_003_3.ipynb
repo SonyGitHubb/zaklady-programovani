{
 "cells": [
  {
   "cell_type": "code",
   "execution_count": 2,
   "id": "888d6da0-c38a-4394-95d5-8adf8643078f",
   "metadata": {},
   "outputs": [
    {
     "name": "stdout",
     "output_type": "stream",
     "text": [
      "15\n",
      "22\n",
      "suda cisla pocet: 3\n"
     ]
    }
   ],
   "source": [
    "list = [3,8,15,22,7,10]\n",
    "suda = 0\n",
    "for i in list:\n",
    "    if i > 10:\n",
    "        print(i)\n",
    "    if i % 2 == 0:\n",
    "        suda += 1\n",
    "print(f\"Sudá čísla počet: {suda}\")"
   ]
  }
 ],
 "metadata": {
  "kernelspec": {
   "display_name": "Python 3 (ipykernel)",
   "language": "python",
   "name": "python3"
  },
  "language_info": {
   "codemirror_mode": {
    "name": "ipython",
    "version": 3
   },
   "file_extension": ".py",
   "mimetype": "text/x-python",
   "name": "python",
   "nbconvert_exporter": "python",
   "pygments_lexer": "ipython3",
   "version": "3.14.0"
  }
 },
 "nbformat": 4,
 "nbformat_minor": 5
}
