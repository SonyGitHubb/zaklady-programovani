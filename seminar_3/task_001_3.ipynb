{
 "cells": [
  {
   "cell_type": "code",
   "execution_count": 3,
   "id": "3d4debe9-7ed1-4de5-92cf-4af80444f1fd",
   "metadata": {},
   "outputs": [
    {
     "name": "stdout",
     "output_type": "stream",
     "text": [
      "True\n"
     ]
    }
   ],
   "source": [
    "x = 21\n",
    "hodnota = ((x%2 == 0) and (x%10 == 0)) or ((x%3 ==0) and (x%9 != 0))\n",
    "print(hodnota)"
   ]
  },
  {
   "cell_type": "code",
   "execution_count": null,
   "id": "43acda28-79aa-4fa6-ad85-6ed41b87e898",
   "metadata": {},
   "outputs": [],
   "source": []
  }
 ],
 "metadata": {
  "kernelspec": {
   "display_name": "Python 3 (ipykernel)",
   "language": "python",
   "name": "python3"
  },
  "language_info": {
   "codemirror_mode": {
    "name": "ipython",
    "version": 3
   },
   "file_extension": ".py",
   "mimetype": "text/x-python",
   "name": "python",
   "nbconvert_exporter": "python",
   "pygments_lexer": "ipython3",
   "version": "3.14.0"
  }
 },
 "nbformat": 4,
 "nbformat_minor": 5
}
