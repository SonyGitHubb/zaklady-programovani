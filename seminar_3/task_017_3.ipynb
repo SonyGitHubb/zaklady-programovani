{
 "cells": [
  {
   "cell_type": "code",
   "execution_count": null,
   "id": "8b7b1932",
   "metadata": {},
   "outputs": [],
   "source": [
    "studenti = [(\"Pavel\", 78), (\"Anna\", 92), (\"Karel\", 44), (\"Eva\", 60)]\n",
    "\n",
    "studenti_uspesni = [student[0] for student in studenti if student[1] > 60]\n",
    "print( studenti_uspesni )\n",
    "\n",
    "pocet_neuspesni = len(studenti) - len(studenti_uspesni)\n",
    "print( pocet_neuspesni )\n",
    "\n",
    "studenti_plus80 = [student[0] for student in studenti if student[1] > 80]\n",
    "print( studenti_plus80 )\n",
    "\n",
    "index = 0\n",
    "while True:\n",
    "    if studenti[index][1] > 60:\n",
    "        print(studenti[index][1])\n",
    "    else:\n",
    "        break\n",
    "index += 1"
   ]
  }
 ],
 "metadata": {
  "kernelspec": {
   "display_name": "Python 3",
   "language": "python",
   "name": "python3"
  },
  "language_info": {
   "name": "python",
   "version": "3.14.0"
  }
 },
 "nbformat": 4,
 "nbformat_minor": 5
}
