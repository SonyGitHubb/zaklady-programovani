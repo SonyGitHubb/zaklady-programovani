{
 "cells": [
  {
   "cell_type": "code",
   "execution_count": 1,
   "id": "42970c78",
   "metadata": {},
   "outputs": [
    {
     "name": "stdout",
     "output_type": "stream",
     "text": [
      "[0, 1, 1, 2, 3, 5, 8, 13, 21, 34, 55, 89]\n"
     ]
    }
   ],
   "source": [
    "fibonacci = [0,1]\n",
    "while True:\n",
    "    kandidat = fibonacci[-2] + fibonacci[-1]\n",
    "    if kandidat <= 100:\n",
    "        fibonacci.append( fibonacci[-2] + fibonacci[-1] )\n",
    "    else:\n",
    "        break\n",
    "print(fibonacci)"
   ]
  }
 ],
 "metadata": {
  "kernelspec": {
   "display_name": "myvenv2",
   "language": "python",
   "name": "python3"
  },
  "language_info": {
   "codemirror_mode": {
    "name": "ipython",
    "version": 3
   },
   "file_extension": ".py",
   "mimetype": "text/x-python",
   "name": "python",
   "nbconvert_exporter": "python",
   "pygments_lexer": "ipython3",
   "version": "3.14.0"
  }
 },
 "nbformat": 4,
 "nbformat_minor": 5
}
