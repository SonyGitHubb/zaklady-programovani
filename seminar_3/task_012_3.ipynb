{
 "cells": [
  {
   "cell_type": "code",
   "execution_count": 3,
   "id": "e452d287",
   "metadata": {},
   "outputs": [
    {
     "name": "stdout",
     "output_type": "stream",
     "text": [
      "Pavel\n",
      "Anna\n",
      "Eva\n",
      "1.8\n",
      "['Pavel', 'Eva']\n",
      "{'Karel': 28, 'Tomas': 30}\n"
     ]
    }
   ],
   "source": [
    "students = [\n",
    "(\"Pavel\", 24, 1),\n",
    "(\"Anna\", 19, 2),\n",
    "(\"Karel\", 28, 3),\n",
    "(\"Eva\", 22, 1),\n",
    "(\"Tomas\", 30, 2),\n",
    "]\n",
    "average = 0\n",
    "for student in students:\n",
    "    if student[1] < 25:\n",
    "        print(student[0])\n",
    "\n",
    "    average += student[2]\n",
    "\n",
    "average = average / len(students)\n",
    "print( average )\n",
    "\n",
    "top_students = [student[0] for student in students if student[2] == 1]\n",
    "print( top_students )\n",
    "\n",
    "old_students = {student[0]: student[1] for student in students if student[1] > 25}\n",
    "print( old_students )"
   ]
  },
  {
   "cell_type": "code",
   "execution_count": null,
   "id": "71545280",
   "metadata": {},
   "outputs": [],
   "source": []
  }
 ],
 "metadata": {
  "kernelspec": {
   "display_name": "Python 3",
   "language": "python",
   "name": "python3"
  },
  "language_info": {
   "codemirror_mode": {
    "name": "ipython",
    "version": 3
   },
   "file_extension": ".py",
   "mimetype": "text/x-python",
   "name": "python",
   "nbconvert_exporter": "python",
   "pygments_lexer": "ipython3",
   "version": "3.14.0"
  }
 },
 "nbformat": 4,
 "nbformat_minor": 5
}
