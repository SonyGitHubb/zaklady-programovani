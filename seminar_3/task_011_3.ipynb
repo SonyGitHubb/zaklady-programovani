{
 "cells": [
  {
   "cell_type": "code",
   "execution_count": null,
   "id": "c0832900-22b8-439d-9ff4-0d296c49a3ae",
   "metadata": {},
   "outputs": [],
   "source": [
    "num = range(1,5)\n",
    "numfak = []\n",
    "for i in num:\n",
    "    xfak = i \n",
    "    for j in range(x - 1, 0, -1):\n",
    "        xfak = xfak * j\n",
    "    numfak.append(xfak)\n",
    "word = {x:y for x,y in zip(num,numfak)}\n",
    "print(word)"
   ]
  },
  {
   "cell_type": "code",
   "execution_count": null,
   "id": "de04d193",
   "metadata": {},
   "outputs": [],
   "source": []
  }
 ],
 "metadata": {
  "kernelspec": {
   "display_name": "Python 3 (ipykernel)",
   "language": "python",
   "name": "python3"
  },
  "language_info": {
   "codemirror_mode": {
    "name": "ipython",
    "version": 3
   },
   "file_extension": ".py",
   "mimetype": "text/x-python",
   "name": "python",
   "nbconvert_exporter": "python",
   "pygments_lexer": "ipython3",
   "version": "3.14.0"
  }
 },
 "nbformat": 4,
 "nbformat_minor": 5
}
