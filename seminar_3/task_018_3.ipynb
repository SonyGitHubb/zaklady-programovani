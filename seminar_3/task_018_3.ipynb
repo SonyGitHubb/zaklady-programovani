{
 "cells": [
  {
   "cell_type": "code",
   "execution_count": null,
   "id": "305b2003",
   "metadata": {},
   "outputs": [],
   "source": [
    "skryte_cislo = 3\n",
    "pokracovat = True\n",
    "while pokracovat:\n",
    "    vstup = int( input('Zadejte celé číslo mezi 0 a 10: ') )\n",
    "    if vstup < skryte_cislo:\n",
    "        print(\"Skryté číslo je větší než zadané.\")\n",
    "    elif vstup > skryte_cislo:\n",
    "        print(\"Skryté číslo je menší než zadané.\")\n",
    "    else:\n",
    "        print(\"Uhádl(a) jsi!\")\n",
    "        break\n",
    "    vstup_pokracovani = input(\"Přejete si pokračovat? Y/N: \")\n",
    "    if vstup_pokracovani.lower() == \"y\":\n",
    "        print(\"\\nNový pokus\\n\")\n",
    "    elif vstup_pokracovani.lower() == \"n\":\n",
    "        break\n",
    "    else:\n",
    "        print(\"Špatný vstup, ukončení programu.\")\n",
    "        break"
   ]
  },
  {
   "cell_type": "code",
   "execution_count": null,
   "id": "68c2feae",
   "metadata": {},
   "outputs": [],
   "source": []
  }
 ],
 "metadata": {
  "kernelspec": {
   "display_name": "Python 3",
   "language": "python",
   "name": "python3"
  },
  "language_info": {
   "codemirror_mode": {
    "name": "ipython",
    "version": 3
   },
   "file_extension": ".py",
   "mimetype": "text/x-python",
   "name": "python",
   "nbconvert_exporter": "python",
   "pygments_lexer": "ipython3",
   "version": "3.14.0"
  }
 },
 "nbformat": 4,
 "nbformat_minor": 5
}
