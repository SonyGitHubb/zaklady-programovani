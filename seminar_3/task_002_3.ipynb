{
 "cells": [
  {
   "cell_type": "code",
   "execution_count": 1,
   "id": "cd994c05-74c3-4b14-b4d9-33f5c97275af",
   "metadata": {},
   "outputs": [
    {
     "name": "stdout",
     "output_type": "stream",
     "text": [
      "dospělý\n"
     ]
    }
   ],
   "source": [
    "vek = 37\n",
    "if (vek >= 18) and (vek < 26):\n",
    "    print(\"student\")\n",
    "elif(vek >= 26) and (vek < 65):\n",
    "    print(\"dospělý\")\n",
    "else:\n",
    "    print(\"senior\")"
   ]
  }
 ],
 "metadata": {
  "kernelspec": {
   "display_name": "Python 3 (ipykernel)",
   "language": "python",
   "name": "python3"
  },
  "language_info": {
   "codemirror_mode": {
    "name": "ipython",
    "version": 3
   },
   "file_extension": ".py",
   "mimetype": "text/x-python",
   "name": "python",
   "nbconvert_exporter": "python",
   "pygments_lexer": "ipython3",
   "version": "3.14.0"
  }
 },
 "nbformat": 4,
 "nbformat_minor": 5
}
