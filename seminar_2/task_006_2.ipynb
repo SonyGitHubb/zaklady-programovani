{
 "cells": [
  {
   "cell_type": "code",
   "execution_count": 1,
   "id": "ed7ebf21-a45f-4a71-b840-ab5c918ee2a3",
   "metadata": {},
   "outputs": [
    {
     "name": "stdin",
     "output_type": "stream",
     "text": [
      "Ahoj, jak se jmenuješ?  sony\n"
     ]
    },
    {
     "name": "stdout",
     "output_type": "stream",
     "text": [
      "\n",
      "Těší mě, sony!\n"
     ]
    },
    {
     "name": "stdin",
     "output_type": "stream",
     "text": [
      "\n",
      "Napiš větu:  jsjfja\n"
     ]
    },
    {
     "name": "stdout",
     "output_type": "stream",
     "text": [
      "\n",
      "Inverze věty:  ajfjsj\n",
      "\n",
      "Věta s vynecháním každého druhého znaku:  jjj\n",
      "\n",
      "Prvních 6 znaků ve větě:  jsjfja\n",
      "\n",
      "Znaky ve větě:  {'a', 's', 'j', 'f'}\n"
     ]
    },
    {
     "name": "stdin",
     "output_type": "stream",
     "text": [
      "\n",
      "Kolik ti je let?  19\n"
     ]
    },
    {
     "name": "stdout",
     "output_type": "stream",
     "text": [
      "\n",
      "Příští rok ti bude 20.\n"
     ]
    }
   ],
   "source": [
    "jmeno = input(\"Ahoj, jak se jmenuješ? \")\n",
    "print(f\"\\nTěší mě, {jmeno}!\")\n",
    "\n",
    "sentence = input(\"\\nNapiš větu: \")\n",
    "\n",
    "sentence_reverse = sentence[::-1]\n",
    "print(\"\\nInverze věty: \", sentence_reverse)\n",
    "\n",
    "sentence_step2 = sentence[::2]\n",
    "print(\"\\nVěta s vynecháním každého druhého znaku: \", sentence_step2)\n",
    "\n",
    "sentence_first6 = sentence[:6]\n",
    "print(\"\\nPrvních 6 znaků ve větě: \", sentence_first6)\n",
    "\n",
    "letters = set(sentence)\n",
    "print(\"\\nZnaky ve větě: \", letters)\n",
    "\n",
    "age = int(input(\"\\nKolik ti je let? \"))\n",
    "age_next_year = age + 1\n",
    "print(f\"\\nPříští rok ti bude {age_next_year}.\")"
   ]
  },
  {
   "cell_type": "code",
   "execution_count": null,
   "id": "3a07e0d0-a75a-4b63-a16c-13b226d281b0",
   "metadata": {},
   "outputs": [],
   "source": []
  }
 ],
 "metadata": {
  "kernelspec": {
   "display_name": "Python 3 (ipykernel)",
   "language": "python",
   "name": "python3"
  },
  "language_info": {
   "codemirror_mode": {
    "name": "ipython",
    "version": 3
   },
   "file_extension": ".py",
   "mimetype": "text/x-python",
   "name": "python",
   "nbconvert_exporter": "python",
   "pygments_lexer": "ipython3",
   "version": "3.14.0"
  }
 },
 "nbformat": 4,
 "nbformat_minor": 5
}
