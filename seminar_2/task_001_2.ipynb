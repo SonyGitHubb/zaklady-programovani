{
 "cells": [
  {
   "cell_type": "code",
   "execution_count": 1,
   "id": "008e523b-d897-48e3-b523-a18208543943",
   "metadata": {},
   "outputs": [
    {
     "name": "stdout",
     "output_type": "stream",
     "text": [
      "2.6285714285714286 <class 'float'>\n",
      "3\n",
      "2\n"
     ]
    }
   ],
   "source": [
    "# A\n",
    "p1, p2, p3, p4, p5, p6, p7 = 1.1, 2.5, 3.7, 0.1, 0.8, 4.1, 6.1\n",
    "\n",
    "s1 = (p1 + p2 + p3 + p4 + p5 + p6 + p7) / 7\n",
    "\n",
    "print(s1, type(s1))\n",
    "print(round(s1))\n",
    "print(int(s1))"
   ]
  },
  {
   "cell_type": "code",
   "execution_count": 2,
   "id": "80d993e4-83c2-4ecb-9121-413a51e92da4",
   "metadata": {},
   "outputs": [
    {
     "name": "stdout",
     "output_type": "stream",
     "text": [
      "7\n",
      "18.4\n",
      "2.6285714285714286 <class 'float'>\n",
      "2.6\n"
     ]
    }
   ],
   "source": [
    "# B\n",
    "list1 = [1.1, 2.5, 3.7, 0.1, 0.8, 4.1, 6.1]\n",
    "\n",
    "length = len(list1)\n",
    "print(length)\n",
    "\n",
    "suma = sum(list1)\n",
    "print(suma)\n",
    "\n",
    "s2 = suma / length\n",
    "print(s2, type(s2))\n",
    "\n",
    "print(round(s2, 1))"
   ]
  },
  {
   "cell_type": "code",
   "execution_count": null,
   "id": "3d1ad70e-814a-4da8-a87d-bd4477aa2b35",
   "metadata": {},
   "outputs": [],
   "source": [
    "# C\n",
    "list2 = list1.copy()\n",
    "\n",
    "truth_value = 2.5 in list2\n",
    "print(truth_value)\n",
    "\n",
    "list2.remove(2.5)\n",
    "\n",
    "list2.append(7.5)\n",
    "print(list2)\n",
    "\n",
    "index_num = list2.index(3.7)\n",
    "list2[index_num] = 9.0\n",
    "\n",
    "print(\"Nový list: \", list2)\n",
    "print(\"Starý list: \", list1)"
   ]
  }
 ],
 "metadata": {
  "kernelspec": {
   "display_name": "Python 3 (ipykernel)",
   "language": "python",
   "name": "python3"
  },
  "language_info": {
   "codemirror_mode": {
    "name": "ipython",
    "version": 3
   },
   "file_extension": ".py",
   "mimetype": "text/x-python",
   "name": "python",
   "nbconvert_exporter": "python",
   "pygments_lexer": "ipython3",
   "version": "3.14.0"
  }
 },
 "nbformat": 4,
 "nbformat_minor": 5
}
