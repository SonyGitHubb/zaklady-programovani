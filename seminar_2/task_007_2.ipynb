{
 "cells": [
  {
   "cell_type": "code",
   "execution_count": 1,
   "id": "852509ec-244c-4906-9fa7-d4339ff8dcdb",
   "metadata": {},
   "outputs": [
    {
     "name": "stdin",
     "output_type": "stream",
     "text": [
      "Napiš několik slov oddělených mezerou (bez diakritiky):  sfsdl adlfajs\n"
     ]
    },
    {
     "name": "stdout",
     "output_type": "stream",
     "text": [
      "Počet znaků, která jste zadal/a: 13\n",
      "Počet unikátních znaků: 7\n",
      "{'d', 'a', 'f', 'j', 's', 'l'}\n",
      "['a', 'd', 'f', 'j', 'l', 's']\n"
     ]
    }
   ],
   "source": [
    "input_from_user = input(\"Napiš několik slov oddělených mezerou (bez diakritiky): \")\n",
    "\n",
    "list_from_user = list(input_from_user)\n",
    "set_from_user = set(list_from_user)\n",
    "\n",
    "print(f\"Počet znaků, která jste zadal/a: {len(list_from_user)}\")\n",
    "print(f\"Počet unikátních znaků: {len(set_from_user)}\")\n",
    "\n",
    "new_set = set_from_user.copy()\n",
    "new_set.remove(' ')\n",
    "print(new_set)\n",
    "\n",
    "new_list = list(new_set)\n",
    "print(sorted(new_list))"
   ]
  },
  {
   "cell_type": "code",
   "execution_count": null,
   "id": "0f5f9cab-79ad-4517-aa39-90dfb981d66a",
   "metadata": {},
   "outputs": [],
   "source": []
  }
 ],
 "metadata": {
  "kernelspec": {
   "display_name": "Python 3 (ipykernel)",
   "language": "python",
   "name": "python3"
  },
  "language_info": {
   "codemirror_mode": {
    "name": "ipython",
    "version": 3
   },
   "file_extension": ".py",
   "mimetype": "text/x-python",
   "name": "python",
   "nbconvert_exporter": "python",
   "pygments_lexer": "ipython3",
   "version": "3.14.0"
  }
 },
 "nbformat": 4,
 "nbformat_minor": 5
}
