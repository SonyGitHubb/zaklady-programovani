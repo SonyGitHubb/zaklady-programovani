{
 "cells": [
  {
   "cell_type": "code",
   "execution_count": 1,
   "id": "520b4f0c-2d27-43ba-87da-9783f8ff8c5f",
   "metadata": {},
   "outputs": [],
   "source": [
    "students = [\"Anna\", \"Pavel\", \"Eliška\", \"Petr\"]\n",
    "grades = [[1,1,1,1], [1,2,1,1], [3,1,1], [3,2,2,3,2]]"
   ]
  },
  {
   "cell_type": "code",
   "execution_count": 2,
   "id": "4204ffcc-1c58-4fdd-a0ff-242d8e345aca",
   "metadata": {},
   "outputs": [
    {
     "name": "stdout",
     "output_type": "stream",
     "text": [
      "Procento výborných studentů je 60.0%.\n"
     ]
    }
   ],
   "source": [
    "# 1. Přidat Lucii\n",
    "students.append(\"Lucie\")\n",
    "grades.append([3,4,1,1])\n",
    "\n",
    "# 2. Vytvořit slovník\n",
    "pairs = dict(zip(students, grades))\n",
    "\n",
    "# 3. Opravit Eliščinu známku\n",
    "pairs['Eliška'][0] = 2\n",
    "\n",
    "# 4. Spočítat průměry\n",
    "average_0 = round(sum(grades[0]) / len(grades[0]))\n",
    "average_1 = round(sum(grades[1]) / len(grades[1]))\n",
    "average_2 = round(sum(grades[2]) / len(grades[2]))\n",
    "average_3 = round(sum(grades[3]) / len(grades[3]))\n",
    "average_4 = round(sum(grades[4]) / len(grades[4]))\n",
    "average_grades = [average_0, average_1, average_2, average_3, average_4]\n",
    "\n",
    "# 5. Vytvořit slovník výsledků\n",
    "results = dict(zip(students, average_grades))\n",
    "\n",
    "# 6. Spočítat procento výborných\n",
    "number_of_students = list(results.values()).count(1)\n",
    "procentage = number_of_students / len(results.values()) * 100\n",
    "print(f\"Procento výborných studentů je {procentage}%.\")\n"
   ]
  },
  {
   "cell_type": "code",
   "execution_count": null,
   "id": "add812d7-5c02-44e9-b601-61357f1a728f",
   "metadata": {},
   "outputs": [],
   "source": []
  }
 ],
 "metadata": {
  "kernelspec": {
   "display_name": "Python 3 (ipykernel)",
   "language": "python",
   "name": "python3"
  },
  "language_info": {
   "codemirror_mode": {
    "name": "ipython",
    "version": 3
   },
   "file_extension": ".py",
   "mimetype": "text/x-python",
   "name": "python",
   "nbconvert_exporter": "python",
   "pygments_lexer": "ipython3",
   "version": "3.14.0"
  }
 },
 "nbformat": 4,
 "nbformat_minor": 5
}
